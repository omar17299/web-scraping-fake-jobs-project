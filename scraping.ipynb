{
 "cells": [
  {
   "cell_type": "code",
   "execution_count": 2,
   "id": "548c9680",
   "metadata": {},
   "outputs": [],
   "source": [
    "import requests\n",
    "from bs4 import BeautifulSoup\n",
    "import csv\n",
    "import pandas as pd\n",
    "from datetime import datetime\n",
    "import re"
   ]
  },
 
   ],
   "source": [
    "url = 'https://realpython.github.io/fake-jobs/'\n",
    "\n",
    "page = requests.get(url)\n",
    "\n",
    "soup = BeautifulSoup(page.content, 'lxml')\n",
    "\n",
    "results = soup.find(id='ResultsContainer')\n",
    "\n",
    "job_elements = results.find_all('div', class_='card-content')\n",
    "\n",
    "\n",
    "for job_element in job_elements:\n",
    "    title_element = job_element.find('h2', class_='title')\n",
    "    company_element = job_element.find('h3', class_='company')\n",
    "    location_element = job_element.find('p', class_='location')\n",
    "\n",
    "    print(title_element.text.strip())\n",
    "    print(company_element.text.strip())\n",
    "    print(location_element.text.strip())\n",
    "    print()"
   ]
  },
  {
   "cell_type": "code",
   "execution_count": 3,
   "id": "2df51359",
   "metadata": {},
   "outputs": [
    {
     "name": "stdout",
     "output_type": "stream",
     "text": [
      "Saved 100 jobs -> fake_jobs_scraped.csv\n"
     ]
    },
    {
     "name": "stderr",
     "output_type": "stream",
     "text": [
      "C:\\Users\\oOMaAaRr\\AppData\\Local\\Temp\\ipykernel_10816\\1405994408.py:32: DeprecationWarning: datetime.datetime.utcnow() is deprecated and scheduled for removal in a future version. Use timezone-aware objects to represent datetimes in UTC: datetime.datetime.now(datetime.UTC).\n",
      "  \"scrape_date\": datetime.utcnow().isoformat()\n"
     ]
    }
   ],
   "source": [
    "\n",
    "BASE = \"https://realpython.github.io/fake-jobs/\"\n",
    "\n",
    "resp = requests.get(BASE)\n",
    "resp.raise_for_status()\n",
    "soup = BeautifulSoup(resp.text, \"html.parser\")\n",
    "\n",
    "jobs = []\n",
    "cards = soup.find_all(\"div\", class_=\"card\")  \n",
    "\n",
    "for c in cards:\n",
    "    title_tag = c.find(\"h2\")\n",
    "    title = title_tag.get_text(strip=True) if title_tag else None\n",
    "\n",
    "    company_tag = c.find(\"h3\")\n",
    "    company = company_tag.get_text(strip=True) if company_tag else None\n",
    "\n",
    "    location_tag = c.find(\"p\", class_=\"location\")\n",
    "    location = location_tag.get_text(strip=True) if location_tag else None\n",
    "\n",
    "    desc_tag = c.find(\"div\", class_=\"description\") or c.find(\"p\")\n",
    "    description = desc_tag.get_text(\" \", strip=True) if desc_tag else \"\"\n",
    "\n",
    "    link_tag = c.find(\"a\", href=True)\n",
    "    apply_link = link_tag[\"href\"] if link_tag else None\n",
    "\n",
    "    jobs.append({\n",
    "        \"title\": title,\n",
    "        \"company\": company,\n",
    "        \"location\": location,\n",
    "        \"description\": description,\n",
    "        \"apply_link\": apply_link,\n",
    "        \"scrape_date\": datetime.utcnow().isoformat()\n",
    "    })\n",
    "\n",
    "df = pd.DataFrame(jobs)\n",
    "\n",
    "df['title'] = df['title'].str.strip().str.lower()\n",
    "df['company'] = df['company'].str.strip()\n",
    "df['description'] = df['description'].str.replace(r'\\s+', ' ', regex=True).str.strip()\n",
    "\n",
    "skills = [\"python\",\"javascript\",\"django\",\"flask\",\"sql\",\"aws\",\"docker\"]\n",
    "for skill in skills:\n",
    "    df[f\"skill_{skill}\"] = df['description'].str.contains(rf\"\\b{re.escape(skill)}\\b\", case=False, na=False)\n",
    "\n",
    "df.to_csv(\"fake_jobs_scraped.csv\", index=False)\n",
    "print(\"Saved\", len(df), \"jobs -> fake_jobs_scraped.csv\")\n"
   ]
  },
  {
   "cell_type": "code",
   "execution_count": null,
   "id": "50cbfe8b",
   "metadata": {},
   "outputs": [],
   "source": []
  }
 ],
 "metadata": {
  "kernelspec": {
   "display_name": "venv",
   "language": "python",
   "name": "python3"
  },
  "language_info": {
   "codemirror_mode": {
    "name": "ipython",
    "version": 3
   },
   "file_extension": ".py",
   "mimetype": "text/x-python",
   "name": "python",
   "nbconvert_exporter": "python",
   "pygments_lexer": "ipython3",
   "version": "3.13.5"
  }
 },
 "nbformat": 4,
 "nbformat_minor": 5
}
